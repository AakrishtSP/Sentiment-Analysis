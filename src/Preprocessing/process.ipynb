{
 "cells": [
  {
   "cell_type": "code",
   "execution_count": 21,
   "metadata": {},
   "outputs": [],
   "source": [
    "import json\n",
    "import pandas as pd\n",
    "from datetime import datetime\n",
    "import re\n",
    "import os"
   ]
  },
  {
   "cell_type": "code",
   "execution_count": 22,
   "metadata": {},
   "outputs": [],
   "source": [
    "def get_filename(path):\n",
    "    return os.path.splitext(os.path.basename(path))[0]"
   ]
  },
  {
   "cell_type": "code",
   "execution_count": 23,
   "metadata": {},
   "outputs": [],
   "source": [
    "# filename = \"../../data/raw/facebook_grouped.json\"\n",
    "def get_json_data(file_path):\n",
    "    with open(file_path,\"r\") as file:\n",
    "        data = json.load(file)\n",
    "    return data"
   ]
  },
  {
   "cell_type": "code",
   "execution_count": 24,
   "metadata": {},
   "outputs": [],
   "source": [
    "def clean_text(text):\n",
    "    text = text.lower()  # Lowercase\n",
    "    text = re.sub(r'http\\S+', '', text)  \n",
    "    text = re.sub(r'[^\\w\\s]', '', text)  \n",
    "    return text"
   ]
  },
  {
   "cell_type": "code",
   "execution_count": 32,
   "metadata": {},
   "outputs": [],
   "source": [
    "def create_preprocessed_json(file_path):\n",
    "    filename = get_filename(file_path)\n",
    "    data = get_json_data(file_path)\n",
    "\n",
    "    #dictionary to store the posts and comments by month\n",
    "    posts_by_month = {}\n",
    "    comments_by_month = {}\n",
    "\n",
    "    # iterate over the months\n",
    "    for month_group in data:\n",
    "        month = month_group[\"month\"]\n",
    "        posts = month_group[\"posts\"]\n",
    "\n",
    "        if month not in posts_by_month:\n",
    "            posts_by_month[month] = []\n",
    "        if month not in comments_by_month:\n",
    "            comments_by_month[month] = []\n",
    "\n",
    "        for post in posts:\n",
    "\n",
    "            # Spliting into date and time\n",
    "            created_utc_str = post['created_utc']\n",
    "            dt_object = datetime.strptime(created_utc_str, \"%Y-%m-%dT%H:%M:%S\")\n",
    "            date_part = dt_object.date().isoformat()  \n",
    "            time_part = dt_object.strftime(\"%H:%M:%S\")  \n",
    "\n",
    "            post_data = {\n",
    "                # 'post_id': post['post_id'],\n",
    "                # 'author': post['author'],\n",
    "                # 'url': post['url'],\n",
    "                # 'created_utc': created_utc_str,\n",
    "                'month': month,\n",
    "                'title': clean_text(post['title']),\n",
    "                'date' : date_part,\n",
    "                'time' : time_part,\n",
    "                'score': post['score'],\n",
    "                'num_comments': post['num_comments'],\n",
    "                'flair': post['flair'],\n",
    "                'body': clean_text(post.get('body', ''))  \n",
    "            }\n",
    "            posts_by_month[month].append(post_data)    \n",
    "\n",
    "            for comment in post[\"comments\"]:\n",
    "                comment_data = {\n",
    "                    # 'post_id': post['post_id'],\n",
    "                    # 'comment_author': comment['author'],\n",
    "                    # 'comment_created_utc': comment['created_utc']\n",
    "                    'comment_body': clean_text(comment['body']),\n",
    "                    'comment_score': comment['score'],\n",
    "                    'date' : date_part,\n",
    "                    'time' : time_part\n",
    "                }\n",
    "                comments_by_month[month].append(comment_data)\n",
    "        \n",
    "        # Save the preprocessed data\n",
    "        processed_dir = f'../../data/processed/{filename}_preprocessed'\n",
    "        os.makedirs(processed_dir, exist_ok=True) \n",
    "        with open(os.path.join(processed_dir, 'posts_by_month.json'), 'w') as f:\n",
    "            json.dump(posts_by_month, f, indent=2)\n",
    "        with open(os.path.join(processed_dir, 'comments_by_month.json'), 'w') as f:\n",
    "            json.dump(comments_by_month, f, indent=2)"
   ]
  },
  {
   "cell_type": "code",
   "execution_count": 33,
   "metadata": {},
   "outputs": [],
   "source": [
    "create_preprocessed_json(\"../../data/raw/facebook_grouped.json\")"
   ]
  },
  {
   "cell_type": "code",
   "execution_count": 26,
   "metadata": {},
   "outputs": [
    {
     "ename": "NameError",
     "evalue": "name 'datas' is not defined",
     "output_type": "error",
     "traceback": [
      "\u001b[31m---------------------------------------------------------------------------\u001b[39m",
      "\u001b[31mNameError\u001b[39m                                 Traceback (most recent call last)",
      "\u001b[36mCell\u001b[39m\u001b[36m \u001b[39m\u001b[32mIn[26]\u001b[39m\u001b[32m, line 9\u001b[39m\n\u001b[32m      1\u001b[39m \u001b[38;5;66;03m# for data in datas:\u001b[39;00m\n\u001b[32m      2\u001b[39m \u001b[38;5;66;03m#     print(\"Month: \",data['month'])\u001b[39;00m\n\u001b[32m      3\u001b[39m \u001b[38;5;66;03m#     print(\"Total: \",data['num_posts'])\u001b[39;00m\n\u001b[32m      4\u001b[39m \u001b[38;5;66;03m#     # print(\"Posts: \",data['posts'])\u001b[39;00m\n\u001b[32m      5\u001b[39m \u001b[38;5;66;03m#     for post in data['posts']:\u001b[39;00m\n\u001b[32m      6\u001b[39m \u001b[38;5;66;03m#         print(\"  - \",post['post_id'],post['title'])\u001b[39;00m\n\u001b[32m      8\u001b[39m dumpdict = \u001b[38;5;28mdict\u001b[39m()\n\u001b[32m----> \u001b[39m\u001b[32m9\u001b[39m \u001b[38;5;28;01mfor\u001b[39;00m data \u001b[38;5;129;01min\u001b[39;00m \u001b[43mdatas\u001b[49m:\n\u001b[32m     10\u001b[39m     dumpdict[data[\u001b[33m'\u001b[39m\u001b[33mmonth\u001b[39m\u001b[33m'\u001b[39m]] = data[\u001b[33m'\u001b[39m\u001b[33mnum_posts\u001b[39m\u001b[33m'\u001b[39m]\n\u001b[32m     11\u001b[39m     dumpdict[data[\u001b[33m'\u001b[39m\u001b[33mmonth\u001b[39m\u001b[33m'\u001b[39m]+\u001b[33m\"\u001b[39m\u001b[33m_posts\u001b[39m\u001b[33m\"\u001b[39m] = data[\u001b[33m'\u001b[39m\u001b[33mposts\u001b[39m\u001b[33m'\u001b[39m]\n",
      "\u001b[31mNameError\u001b[39m: name 'datas' is not defined"
     ]
    }
   ],
   "source": [
    "# for data in datas:\n",
    "#     print(\"Month: \",data['month'])\n",
    "#     print(\"Total: \",data['num_posts'])\n",
    "#     # print(\"Posts: \",data['posts'])\n",
    "#     for post in data['posts']:\n",
    "#         print(\"  - \",post['post_id'],post['title'])\n",
    "\n",
    "dumpdict = dict()\n",
    "for data in datas:\n",
    "    dumpdict[data['month']] = data['num_posts']\n",
    "    dumpdict[data['month']+\"_posts\"] = data['posts']\n",
    "\n",
    "dumpdict"
   ]
  },
  {
   "cell_type": "code",
   "execution_count": null,
   "metadata": {},
   "outputs": [],
   "source": [
    "with open(\"../../data/raw/facebook_grouped_dict.json\", \"w\") as file:\n",
    "    json.dump(dumpdict, file, indent=2)\n"
   ]
  }
 ],
 "metadata": {
  "kernelspec": {
   "display_name": ".venv",
   "language": "python",
   "name": "python3"
  },
  "language_info": {
   "codemirror_mode": {
    "name": "ipython",
    "version": 3
   },
   "file_extension": ".py",
   "mimetype": "text/x-python",
   "name": "python",
   "nbconvert_exporter": "python",
   "pygments_lexer": "ipython3",
   "version": "3.13.2"
  }
 },
 "nbformat": 4,
 "nbformat_minor": 2
}
