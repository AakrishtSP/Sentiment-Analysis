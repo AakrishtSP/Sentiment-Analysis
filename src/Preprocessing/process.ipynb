{
 "cells": [
  {
   "cell_type": "code",
   "execution_count": 21,
   "metadata": {},
   "outputs": [],
   "source": [
    "import json\n",
    "import pandas as pd\n",
    "from datetime import datetime\n",
    "import re\n",
    "import os"
   ]
  },
  {
   "cell_type": "code",
   "execution_count": 22,
   "metadata": {},
   "outputs": [],
   "source": [
    "def get_filename(path):\n",
    "    return os.path.splitext(os.path.basename(path))[0]"
   ]
  },
  {
   "cell_type": "code",
   "execution_count": 23,
   "metadata": {},
   "outputs": [],
   "source": [
    "# filename = \"../../data/raw/facebook_grouped.json\"\n",
    "def get_json_data(file_path):\n",
    "    with open(file_path,\"r\") as file:\n",
    "        data = json.load(file)\n",
    "    return data"
   ]
  },
  {
   "cell_type": "code",
   "execution_count": 24,
   "metadata": {},
   "outputs": [],
   "source": [
    "def clean_text(text):\n",
    "    text = text.lower()  # Lowercase\n",
    "    text = re.sub(r'http\\S+', '', text)  \n",
    "    text = re.sub(r'[^\\w\\s]', '', text)  \n",
    "    return text"
   ]
  },
  {
   "cell_type": "code",
   "execution_count": 32,
   "metadata": {},
   "outputs": [],
   "source": [
    "def create_preprocessed_json(file_path):\n",
    "    filename = get_filename(file_path)\n",
    "    data = get_json_data(file_path)\n",
    "\n",
    "    #dictionary to store the posts and comments by month\n",
    "    posts_by_month = {}\n",
    "    comments_by_month = {}\n",
    "\n",
    "    # iterate over the months\n",
    "    for month_group in data:\n",
    "        month = month_group[\"month\"]\n",
    "        posts = month_group[\"posts\"]\n",
    "\n",
    "        if month not in posts_by_month:\n",
    "            posts_by_month[month] = []\n",
    "        if month not in comments_by_month:\n",
    "            comments_by_month[month] = []\n",
    "\n",
    "        for post in posts:\n",
    "\n",
    "            # Spliting into date and time\n",
    "            created_utc_str = post['created_utc']\n",
    "            dt_object = datetime.strptime(created_utc_str, \"%Y-%m-%dT%H:%M:%S\")\n",
    "            date_part = dt_object.date().isoformat()  \n",
    "            time_part = dt_object.strftime(\"%H:%M:%S\")  \n",
    "\n",
    "            post_data = {\n",
    "                # 'post_id': post['post_id'],\n",
    "                # 'author': post['author'],\n",
    "                # 'url': post['url'],\n",
    "                # 'created_utc': created_utc_str,\n",
    "                'month': month,\n",
    "                'title': clean_text(post['title']),\n",
    "                'date' : date_part,\n",
    "                'time' : time_part,\n",
    "                'score': post['score'],\n",
    "                'num_comments': post['num_comments'],\n",
    "                'flair': post['flair'],\n",
    "                'body': clean_text(post.get('body', ''))  \n",
    "            }\n",
    "            posts_by_month[month].append(post_data)    \n",
    "\n",
    "            for comment in post[\"comments\"]:\n",
    "                comment_data = {\n",
    "                    # 'post_id': post['post_id'],\n",
    "                    # 'comment_author': comment['author'],\n",
    "                    # 'comment_created_utc': comment['created_utc']\n",
    "                    'comment_body': clean_text(comment['body']),\n",
    "                    'comment_score': comment['score'],\n",
    "                    'date' : date_part,\n",
    "                    'time' : time_part\n",
    "                }\n",
    "                comments_by_month[month].append(comment_data)\n",
    "        \n",
    "        # Save the preprocessed data\n",
    "        processed_dir = f'../../data/processed/{filename}_preprocessed'\n",
    "        os.makedirs(processed_dir, exist_ok=True) \n",
    "        with open(os.path.join(processed_dir, 'posts_by_month.json'), 'w') as f:\n",
    "            json.dump(posts_by_month, f, indent=2)\n",
    "        with open(os.path.join(processed_dir, 'comments_by_month.json'), 'w') as f:\n",
    "            json.dump(comments_by_month, f, indent=2)"
   ]
  },
  {
   "cell_type": "code",
   "execution_count": 33,
   "metadata": {},
   "outputs": [],
   "source": [
    "create_preprocessed_json(\"../../data/raw/facebook_grouped.json\")"
   ]
  }
 ],
 "metadata": {
  "kernelspec": {
   "display_name": ".venv",
   "language": "python",
   "name": "python3"
  },
  "language_info": {
   "codemirror_mode": {
    "name": "ipython",
    "version": 3
   },
   "file_extension": ".py",
   "mimetype": "text/x-python",
   "name": "python",
   "nbconvert_exporter": "python",
   "pygments_lexer": "ipython3",
   "version": "3.13.2"
  }
 },
 "nbformat": 4,
 "nbformat_minor": 2
}
