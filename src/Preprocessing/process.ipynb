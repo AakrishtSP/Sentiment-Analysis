{
 "cells": [
  {
   "cell_type": "code",
   "execution_count": 7,
   "metadata": {},
   "outputs": [],
   "source": [
    "import json\n",
    "import pandas as pd\n",
    "from datetime import datetime\n",
    "import re\n",
    "import os"
   ]
  },
  {
   "cell_type": "code",
   "execution_count": 8,
   "metadata": {},
   "outputs": [],
   "source": [
    "def get_filename(path):\n",
    "    return os.path.splitext(os.path.basename(path))[0]"
   ]
  },
  {
   "cell_type": "code",
   "execution_count": 9,
   "metadata": {},
   "outputs": [],
   "source": [
    "# filename = \"../../data/raw/facebook_grouped.json\"\n",
    "def get_json_data(file_path):\n",
    "    with open(file_path, \"r\", encoding=\"utf-8\") as file:\n",
    "        data = json.load(file)\n",
    "    return data"
   ]
  },
  {
   "cell_type": "code",
   "execution_count": 10,
   "metadata": {},
   "outputs": [],
   "source": [
    "def clean_text(text):\n",
    "    text = text.lower()  # Lowercase\n",
    "    text = re.sub(r'http\\S+', '', text)  \n",
    "    text = re.sub(r'[^\\w\\s]', '', text)  \n",
    "    return text"
   ]
  },
  {
   "cell_type": "code",
   "execution_count": null,
   "metadata": {},
   "outputs": [],
   "source": []
  },
  {
   "cell_type": "code",
   "execution_count": 11,
   "metadata": {},
   "outputs": [],
   "source": [
    "def create_preprocessed_json_by_month(file_path):\n",
    "    filename = get_filename(file_path)\n",
    "    data = get_json_data(file_path)\n",
    "\n",
    "    #dictionary to store the posts and comments by month\n",
    "    posts_by_month = {}\n",
    "\n",
    "    # iterate over the months\n",
    "    for month_group in data:\n",
    "        month = month_group[\"month\"]\n",
    "        posts = month_group[\"posts\"]\n",
    "\n",
    "        if month not in posts_by_month:\n",
    "            posts_by_month[month] = []\n",
    "\n",
    "        for post in posts:\n",
    "\n",
    "            # Skip if the post has no body\n",
    "            body = post.get('body', '')\n",
    "            if not body.strip():         \n",
    "                continue  \n",
    "\n",
    "            # Spliting into date and time\n",
    "            created_utc_str = post['created_utc']\n",
    "            dt_object = datetime.strptime(created_utc_str, \"%Y-%m-%dT%H:%M:%S\")\n",
    "            date_part = dt_object.date().isoformat()  \n",
    "            time_part = dt_object.strftime(\"%H:%M:%S\")  \n",
    "\n",
    "            post_data = {\n",
    "                # 'post_id': post['post_id'],\n",
    "                # 'author': post['author'],\n",
    "                # 'url': post['url'],\n",
    "                # 'created_utc': created_utc_str,\n",
    "                'month': month,\n",
    "                'title': clean_text(post['title']),\n",
    "                'date' : date_part,\n",
    "                'time' : time_part,\n",
    "                'score': post['score'],\n",
    "                'num_comments': post['num_comments'],\n",
    "                'flair': post['flair'],\n",
    "                'body': clean_text(post.get('body', '')), \n",
    "                'combined_text': clean_text(post['title'] + ' ' + post.get('body', '')),\n",
    "                'comments': []\n",
    "            }\n",
    "            posts_by_month[month].append(post_data)    \n",
    "\n",
    "            for comment in post[\"comments\"]:\n",
    "                comment_data = {\n",
    "                    # 'post_id': post['post_id'],\n",
    "                    # 'comment_author': comment['author'],\n",
    "                    # 'comment_created_utc': comment['created_utc']\n",
    "                    'comment_body': clean_text(comment['body']),\n",
    "                    'comment_score': comment['score'],\n",
    "                    'date' : date_part,\n",
    "                    'time' : time_part\n",
    "                }\n",
    "                post_data['comments'].append(comment_data)\n",
    "        \n",
    "        # Save the preprocessed data\n",
    "        processed_dir = f'../../data/processed/{filename}_preprocessed'\n",
    "        os.makedirs(processed_dir, exist_ok=True) \n",
    "        with open(os.path.join(processed_dir, 'posts_by_month.json'), 'w') as f:\n",
    "            json.dump(posts_by_month, f, indent=2)"
   ]
  },
  {
   "cell_type": "code",
   "execution_count": null,
   "metadata": {},
   "outputs": [],
   "source": [
    "create_preprocessed_json_by_month(\"../../data/raw/facebook_grouped.json\")"
   ]
  },
  {
   "cell_type": "code",
   "execution_count": null,
   "metadata": {},
   "outputs": [],
   "source": [
    "def create_preprocessed_json_by_month(file_path):\n",
    "    filename = get_filename(file_path)\n",
    "    data = get_json_data(file_path)\n",
    "\n",
    "    #dictionary to store the posts and comments by blocks of days\n",
    "    posts_by_blocks_days = {i: [] for i in range(0, 11)}\n",
    "\n",
    "    "
    "create_preprocessed_json(\"../../data/raw/nvidia_grouped.json\")"
   ]
  }
 ],
 "metadata": {
  "kernelspec": {
   "display_name": "Python 3",
   "language": "python",
   "name": "python3"
  },
  "language_info": {
   "codemirror_mode": {
    "name": "ipython",
    "version": 3
   },
   "file_extension": ".py",
   "mimetype": "text/x-python",
   "name": "python",
   "nbconvert_exporter": "python",
   "pygments_lexer": "ipython3",
   "version": "3.13.3"
  }
 },
 "nbformat": 4,
 "nbformat_minor": 2
}
