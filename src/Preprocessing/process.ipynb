{
 "cells": [
  {
   "cell_type": "code",
   "execution_count": 2,
   "metadata": {},
   "outputs": [],
   "source": [
    "import json\n",
    "import pandas as pd\n",
    "from datetime import datetime"
   ]
  },
  {
   "cell_type": "code",
   "execution_count": 3,
   "metadata": {},
   "outputs": [],
   "source": [
    "# file_path = \"../../data/raw/teslamotors_top_month_20250305.json\"\n",
    "def get_json(file_path):\n",
    "    with open(file_path, \"r\", encoding=\"utf-8\") as file:\n",
    "        json_data = json.load(file_path)\n",
    "    return json_data"
   ]
  },
  {
   "cell_type": "code",
   "execution_count": 4,
   "metadata": {},
   "outputs": [],
   "source": [
    "def get_df(json):\n",
    "    df = pd.DataFrame(json)\n",
    "    return df"
   ]
  },
  {
   "cell_type": "code",
   "execution_count": 5,
   "metadata": {},
   "outputs": [],
   "source": [
    "def manage_columns(df):\n",
    "    df['created_utc'] = pd.to_datetime(df['created_utc'])\n",
    "    df['year'] = df['created_utc'].dt.year\n",
    "    df['month'] = df['created_utc'].dt.month\n",
    "    df['day'] = df['created_utc'].dt.day\n",
    "    df['time'] = df['created_utc'].dt.time\n",
    "    df['day_of_week'] = df['created_utc'].dt.day_name()\n",
    "    df = df.drop(columns=['url', 'id', 'permalink', 'author'])\n",
    "    return df"
   ]
  },
  {
   "cell_type": "code",
   "execution_count": 6,
   "metadata": {},
   "outputs": [],
   "source": [
    "def create_preprocessed_json(file_path_json):\n",
    "    df = get_df(get_json(file_path_json))\n",
    "    df = manage_columns(df)\n",
    "    df['combined_text'] = df['title'].fillna('') + ' ' + df['body'].fillna('')# Combine text fields (title + body) for NLP models\n",
    "    df['cleaned_text'] = df['combined_text'].str.replace(r'http\\S+', '', regex=True).str.replace(r'\\W+', ' ', regex=True)# Clean URLs and special chars from text\n"
   ]
  },
  {
   "cell_type": "code",
   "execution_count": 7,
   "metadata": {},
   "outputs": [
    {
     "ename": "NameError",
     "evalue": "name 'df' is not defined",
     "output_type": "error",
     "traceback": [
      "\u001b[31m---------------------------------------------------------------------------\u001b[39m",
      "\u001b[31mNameError\u001b[39m                                 Traceback (most recent call last)",
      "\u001b[36mCell\u001b[39m\u001b[36m \u001b[39m\u001b[32mIn[7]\u001b[39m\u001b[32m, line 2\u001b[39m\n\u001b[32m      1\u001b[39m \u001b[38;5;66;03m# Encode categorical data\u001b[39;00m\n\u001b[32m----> \u001b[39m\u001b[32m2\u001b[39m df[\u001b[33m'\u001b[39m\u001b[33mflair_encoded\u001b[39m\u001b[33m'\u001b[39m] = pd.factorize(\u001b[43mdf\u001b[49m[\u001b[33m'\u001b[39m\u001b[33mflair\u001b[39m\u001b[33m'\u001b[39m])[\u001b[32m0\u001b[39m]\n",
      "\u001b[31mNameError\u001b[39m: name 'df' is not defined"
     ]
    }
   ],
   "source": [
    "# Encode categorical data\n",
    "df['flair_encoded'] = pd.factorize(df['flair'])[0]\n"
   ]
  },
  {
   "cell_type": "code",
   "execution_count": null,
   "metadata": {},
   "outputs": [
    {
     "data": {
      "text/html": [
       "<div>\n",
       "<style scoped>\n",
       "    .dataframe tbody tr th:only-of-type {\n",
       "        vertical-align: middle;\n",
       "    }\n",
       "\n",
       "    .dataframe tbody tr th {\n",
       "        vertical-align: top;\n",
       "    }\n",
       "\n",
       "    .dataframe thead th {\n",
       "        text-align: right;\n",
       "    }\n",
       "</style>\n",
       "<table border=\"1\" class=\"dataframe\">\n",
       "  <thead>\n",
       "    <tr style=\"text-align: right;\">\n",
       "      <th></th>\n",
       "      <th>title</th>\n",
       "      <th>score</th>\n",
       "      <th>body</th>\n",
       "      <th>num_comments</th>\n",
       "      <th>flair</th>\n",
       "      <th>nsfw</th>\n",
       "      <th>awards</th>\n",
       "      <th>created_hour</th>\n",
       "      <th>created_dayofweek</th>\n",
       "      <th>combined_text</th>\n",
       "      <th>cleaned_text</th>\n",
       "      <th>flair_encoded</th>\n",
       "    </tr>\n",
       "  </thead>\n",
       "  <tbody>\n",
       "    <tr>\n",
       "      <th>0</th>\n",
       "      <td>Polestar's 'Trade In Your Tesla' $20,000 Deal ...</td>\n",
       "      <td>1211</td>\n",
       "      <td></td>\n",
       "      <td>324</td>\n",
       "      <td>General</td>\n",
       "      <td>False</td>\n",
       "      <td>0</td>\n",
       "      <td>23</td>\n",
       "      <td>6</td>\n",
       "      <td>Polestar's 'Trade In Your Tesla' $20,000 Deal ...</td>\n",
       "      <td>Polestar s Trade In Your Tesla 20 000 Deal Is ...</td>\n",
       "      <td>0</td>\n",
       "    </tr>\n",
       "    <tr>\n",
       "      <th>1</th>\n",
       "      <td>Can confirm it looks better in real life</td>\n",
       "      <td>906</td>\n",
       "      <td></td>\n",
       "      <td>182</td>\n",
       "      <td>Vehicles - Model Y</td>\n",
       "      <td>False</td>\n",
       "      <td>0</td>\n",
       "      <td>4</td>\n",
       "      <td>6</td>\n",
       "      <td>Can confirm it looks better in real life</td>\n",
       "      <td>Can confirm it looks better in real life</td>\n",
       "      <td>1</td>\n",
       "    </tr>\n",
       "    <tr>\n",
       "      <th>2</th>\n",
       "      <td>New Model Y Ultra Red</td>\n",
       "      <td>904</td>\n",
       "      <td>New Model Y Ultra Red photos from Tesla Meatpa...</td>\n",
       "      <td>149</td>\n",
       "      <td>Vehicles - Model Y</td>\n",
       "      <td>False</td>\n",
       "      <td>0</td>\n",
       "      <td>22</td>\n",
       "      <td>0</td>\n",
       "      <td>New Model Y Ultra Red New Model Y Ultra Red ph...</td>\n",
       "      <td>New Model Y Ultra Red New Model Y Ultra Red ph...</td>\n",
       "      <td>1</td>\n",
       "    </tr>\n",
       "    <tr>\n",
       "      <th>3</th>\n",
       "      <td>Toronto Drops Tesla from Taxi Grant Program as...</td>\n",
       "      <td>789</td>\n",
       "      <td></td>\n",
       "      <td>183</td>\n",
       "      <td>General</td>\n",
       "      <td>False</td>\n",
       "      <td>0</td>\n",
       "      <td>0</td>\n",
       "      <td>3</td>\n",
       "      <td>Toronto Drops Tesla from Taxi Grant Program as...</td>\n",
       "      <td>Toronto Drops Tesla from Taxi Grant Program as...</td>\n",
       "      <td>0</td>\n",
       "    </tr>\n",
       "    <tr>\n",
       "      <th>4</th>\n",
       "      <td>Tesla and Steak ‘n Shake partner to roll out 1...</td>\n",
       "      <td>783</td>\n",
       "      <td></td>\n",
       "      <td>86</td>\n",
       "      <td>Energy - Charging</td>\n",
       "      <td>False</td>\n",
       "      <td>0</td>\n",
       "      <td>21</td>\n",
       "      <td>4</td>\n",
       "      <td>Tesla and Steak ‘n Shake partner to roll out 1...</td>\n",
       "      <td>Tesla and Steak n Shake partner to roll out 10...</td>\n",
       "      <td>2</td>\n",
       "    </tr>\n",
       "  </tbody>\n",
       "</table>\n",
       "</div>"
      ],
      "text/plain": [
       "                                               title  score  \\\n",
       "0  Polestar's 'Trade In Your Tesla' $20,000 Deal ...   1211   \n",
       "1           Can confirm it looks better in real life    906   \n",
       "2                              New Model Y Ultra Red    904   \n",
       "3  Toronto Drops Tesla from Taxi Grant Program as...    789   \n",
       "4  Tesla and Steak ‘n Shake partner to roll out 1...    783   \n",
       "\n",
       "                                                body  num_comments  \\\n",
       "0                                                              324   \n",
       "1                                                              182   \n",
       "2  New Model Y Ultra Red photos from Tesla Meatpa...           149   \n",
       "3                                                              183   \n",
       "4                                                               86   \n",
       "\n",
       "                flair   nsfw  awards  created_hour  created_dayofweek  \\\n",
       "0             General  False       0            23                  6   \n",
       "1  Vehicles - Model Y  False       0             4                  6   \n",
       "2  Vehicles - Model Y  False       0            22                  0   \n",
       "3             General  False       0             0                  3   \n",
       "4   Energy - Charging  False       0            21                  4   \n",
       "\n",
       "                                       combined_text  \\\n",
       "0  Polestar's 'Trade In Your Tesla' $20,000 Deal ...   \n",
       "1          Can confirm it looks better in real life    \n",
       "2  New Model Y Ultra Red New Model Y Ultra Red ph...   \n",
       "3  Toronto Drops Tesla from Taxi Grant Program as...   \n",
       "4  Tesla and Steak ‘n Shake partner to roll out 1...   \n",
       "\n",
       "                                        cleaned_text  flair_encoded  \n",
       "0  Polestar s Trade In Your Tesla 20 000 Deal Is ...              0  \n",
       "1          Can confirm it looks better in real life               1  \n",
       "2  New Model Y Ultra Red New Model Y Ultra Red ph...              1  \n",
       "3  Toronto Drops Tesla from Taxi Grant Program as...              0  \n",
       "4  Tesla and Steak n Shake partner to roll out 10...              2  "
      ]
     },
     "execution_count": 32,
     "metadata": {},
     "output_type": "execute_result"
    }
   ],
   "source": [
    "df.head()"
   ]
  },
  {
   "cell_type": "code",
   "execution_count": null,
   "metadata": {},
   "outputs": [],
   "source": [
    "import os\n",
    "\n",
    "# Ensure the directory exists\n",
    "save_dir = r\"../../data/processed\"\n",
    "\n",
    "# Save to CSV\n",
    "csv_path = os.path.join(save_dir, 'preprocessed_data.csv')\n",
    "json_path = os.path.join(save_dir, 'preprocessed_data.json')\n",
    "df.to_csv(csv_path, index=False)\n",
    "# df.to_json(csv_path.replace('.csv', '.json'), orient='records', lines=True)\n",
    "df.to_json(json_path, orient='records', indent=4) \n"
   ]
  },
  {
   "cell_type": "code",
   "execution_count": null,
   "metadata": {},
   "outputs": [],
   "source": []
  }
 ],
 "metadata": {
  "kernelspec": {
   "display_name": ".venv",
   "language": "python",
   "name": "python3"
  },
  "language_info": {
   "codemirror_mode": {
    "name": "ipython",
    "version": 3
   },
   "file_extension": ".py",
   "mimetype": "text/x-python",
   "name": "python",
   "nbconvert_exporter": "python",
   "pygments_lexer": "ipython3",
   "version": "3.13.2"
  }
 },
 "nbformat": 4,
 "nbformat_minor": 2
}
